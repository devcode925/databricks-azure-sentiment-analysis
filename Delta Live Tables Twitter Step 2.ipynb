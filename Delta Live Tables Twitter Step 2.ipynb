{
 "cells": [
  {
   "cell_type": "markdown",
   "metadata": {
    "application/vnd.databricks.v1+cell": {
     "cellMetadata": {},
     "inputWidgets": {},
     "nuid": "ca9c28f5-7da5-4bd9-90f2-cac0a99bafdd",
     "showTitle": false,
     "title": ""
    }
   },
   "source": [
    "# Delta Live Tables Twitter Step 2"
   ]
  },
  {
   "cell_type": "markdown",
   "metadata": {
    "application/vnd.databricks.v1+cell": {
     "cellMetadata": {},
     "inputWidgets": {},
     "nuid": "e8346c08-07c7-4a7e-938b-f33a9c164e3a",
     "showTitle": false,
     "title": ""
    }
   },
   "source": [
    "* [jump to Twitter-Stream-Azure notebook]($./TwitterStream to Azure blob DBFS - Step 1)\n",
    "* [jump to Twitter-SentimentAnalysis notebook]($./Huggingface Sentiment Analysis Step 3)\n",
    "* [Pipeline](https://adb-3234447377967728.8.azuredatabricks.net/?o=3234447377967728#joblist/pipelines/c7029259-25b6-4c56-83bd-ca0b5254db9c/updates/8035cda4-bf92-4cb5-896a-12e94ac36f3d)"
   ]
  },
  {
   "cell_type": "markdown",
   "metadata": {
    "application/vnd.databricks.v1+cell": {
     "cellMetadata": {},
     "inputWidgets": {},
     "nuid": "9880de2e-f265-4b96-8b36-88e87c2fd10d",
     "showTitle": false,
     "title": ""
    }
   },
   "source": [
    "--This Delta Live Tables query is syntactically valid, but you must create a pipeline in order to define and populate your table.\n",
    "\n",
    "1. create a workflow"
   ]
  },
  {
   "cell_type": "code",
   "execution_count": 0,
   "metadata": {
    "application/vnd.databricks.v1+cell": {
     "cellMetadata": {},
     "inputWidgets": {},
     "nuid": "1779c67f-847b-46df-85b2-b99b41e72154",
     "showTitle": false,
     "title": ""
    }
   },
   "outputs": [],
   "source": [
    "%python\n",
    "dbutils.secrets.listScopes()"
   ]
  },
  {
   "cell_type": "code",
   "execution_count": 0,
   "metadata": {
    "application/vnd.databricks.v1+cell": {
     "cellMetadata": {
      "byteLimit": 2048000,
      "rowLimit": 10000
     },
     "inputWidgets": {},
     "nuid": "b690cee9-ffed-43b6-90f5-dd803e087abc",
     "showTitle": false,
     "title": ""
    }
   },
   "outputs": [],
   "source": [
    "-- streaming ingest + schema inference with Auto Loader\n",
    "CREATE OR REFRESH STREAMING LIVE TABLE bronze\n",
    "AS SELECT * FROM cloud_files(\n",
    "  \"dbfs:/mnt/tweet-holder\", \"json\"\n",
    ")"
   ]
  },
  {
   "cell_type": "code",
   "execution_count": 0,
   "metadata": {
    "application/vnd.databricks.v1+cell": {
     "cellMetadata": {
      "byteLimit": 2048000,
      "rowLimit": 10000
     },
     "inputWidgets": {},
     "nuid": "e418037a-b132-40fe-8a9e-4d94d2f98200",
     "showTitle": false,
     "title": ""
    }
   },
   "outputs": [],
   "source": [
    "-- constraints policies: track #badrecords/ drop record/ abort processing record \n",
    "CREATE OR REFRESH STREAMING LIVE TABLE silver \n",
    "(CONSTRAINT valid_language EXPECT (lang == \"en\") ON VIOLATION DROP ROW,\n",
    "CONSTRAINT valid_id EXPECT (id != \"\") ON VIOLATION DROP ROW)\n",
    "COMMENT 'data is cleansed - other languages than EN are dropped'\n",
    "AS\n",
    "  SELECT id, geo, lang, text FROM STREAM (LIVE.bronze)"
   ]
  },
  {
   "cell_type": "code",
   "execution_count": 0,
   "metadata": {
    "application/vnd.databricks.v1+cell": {
     "cellMetadata": {
      "byteLimit": 2048000,
      "rowLimit": 10000
     },
     "inputWidgets": {},
     "nuid": "2fab1c76-1b93-4003-bb3e-09d9d9001c39",
     "showTitle": false,
     "title": ""
    }
   },
   "outputs": [],
   "source": [
    "CREATE OR REFRESH STREAMING LIVE TABLE languages\n",
    "COMMENT 'table for statistics of different languages\n",
    "that showed up in the pipeline' \n",
    "AS\n",
    "  SELECT lang, count(*)  AS count FROM STREAM (LIVE.bronze) GROUP BY lang ORDER BY count"
   ]
  },
  {
   "cell_type": "code",
   "execution_count": 0,
   "metadata": {
    "application/vnd.databricks.v1+cell": {
     "cellMetadata": {},
     "inputWidgets": {},
     "nuid": "a14cf52b-8311-4980-8ccb-f44119e0ea29",
     "showTitle": false,
     "title": ""
    }
   },
   "outputs": [],
   "source": []
  }
 ],
 "metadata": {
  "application/vnd.databricks.v1+notebook": {
   "dashboards": [],
   "language": "sql",
   "notebookMetadata": {
    "pythonIndentUnit": 4
   },
   "notebookName": "Delta Live Tables Twitter Step 2",
   "notebookOrigID": 3176339560211363,
   "widgets": {}
  }
 },
 "nbformat": 4,
 "nbformat_minor": 0
}
